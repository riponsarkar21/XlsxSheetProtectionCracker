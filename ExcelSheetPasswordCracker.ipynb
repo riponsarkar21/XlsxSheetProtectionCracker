{
 "cells": [
  {
   "cell_type": "markdown",
   "id": "fa312ecb-c8cf-40c2-a919-005880f34c6c",
   "metadata": {},
   "source": [
    "# Excel Sheet Protection Cracker"
   ]
  },
  {
   "cell_type": "code",
   "execution_count": 41,
   "id": "a2458127-3234-4cbd-8401-51abd1a2c97b",
   "metadata": {
    "tags": []
   },
   "outputs": [
    {
     "name": "stdout",
     "output_type": "stream",
     "text": [
      "Sheet 'Sheet1' is protected.\n",
      "Sheet 'Sheet2' is protected.\n",
      "Sheet 'asas' is not protected.\n"
     ]
    }
   ],
   "source": [
    "import openpyxl\n",
    "\n",
    "def check_excel_protection(file_path, keywords):\n",
    "    # Load the Excel workbook\n",
    "    workbook = openpyxl.load_workbook(file_path)\n",
    "\n",
    "    # Iterate through each sheet in the workbook\n",
    "    for sheet_name in workbook.sheetnames:\n",
    "        sheet = workbook[sheet_name]\n",
    "\n",
    "        # Check if the sheet is protected\n",
    "        if sheet.protection.sheet:\n",
    "            print(f\"Sheet '{sheet_name}' is protected.\")\n",
    "\n",
    "            # Iterate through the list of keywords\n",
    "            for keyword in keywords:\n",
    "                # Check if the keyword is present in any cell of the sheet\n",
    "                keyword_found = any(keyword in cell.value.lower() if cell.value else False for row in sheet.iter_rows() for cell in row)\n",
    "                \n",
    "                if keyword_found:\n",
    "                    print(f\"Keyword '{keyword}' found in sheet '{sheet_name}'.\")\n",
    "        else:\n",
    "            print(f\"Sheet '{sheet_name}' is not protected.\")\n",
    "\n",
    "    # Close the workbook\n",
    "    workbook.close()\n",
    "\n",
    "# Example usage\n",
    "file_path = 'test.xlsx'\n",
    "# keywords = ['Ripon', 'Mukta', 'Pranto', 'Akhi', 'Pijush', 'Gopal', 'Rajkumar', 'Jochna', 'Purnima', 'Pranto']\n",
    "\n",
    "check_excel_protection(file_path, keywords)"
   ]
  },
  {
   "cell_type": "raw",
   "id": "48ba19b3-5441-44fb-a72a-49dfca2bdb5d",
   "metadata": {},
   "source": [
    "1. Create a website frond end for showing the upload file.\n",
    "2. Upload the file using windows explorer.\n",
    "3. Convert button click to upload the file in background server of python server.\n",
    "4. open and load the file in python server. \n",
    "5. convert the file into pdf format.\n",
    "6. Upload button of front end section converted to download button.\n",
    "7. Clicking on the download button the file should downloaded and renamed."
   ]
  },
  {
   "cell_type": "code",
   "execution_count": 42,
   "id": "91361888-e85e-48ff-a311-087ea2461336",
   "metadata": {
    "tags": []
   },
   "outputs": [
    {
     "name": "stdout",
     "output_type": "stream",
     "text": [
      "No file selected.\n"
     ]
    }
   ],
   "source": [
    "from tkinter import Tk\n",
    "from tkinter.filedialog import askopenfilename\n",
    "import openpyxl\n",
    "\n",
    "# Create a Tkinter root window (it won't be shown)\n",
    "root = Tk()\n",
    "root.withdraw()\n",
    "\n",
    "# Ask the user to select an Excel file using Windows Explorer\n",
    "file_path = askopenfilename(filetypes=[(\"Excel Files\", \"*.xlsx;*.xlsm\")])\n",
    "\n",
    "# Check if the user selected a file\n",
    "if file_path:\n",
    "    # Load the Excel workbook using openpyxl\n",
    "    workbook = openpyxl.load_workbook(file_path)\n",
    "\n",
    "    # Now you can work with the workbook as needed\n",
    "    \n",
    "    \n",
    "    \n",
    "    # For example, you can access sheets, read data, etc.\n",
    "\n",
    "    # Close the workbook when done\n",
    "    workbook.close()\n",
    "else:\n",
    "    print(\"No file selected.\")\n"
   ]
  },
  {
   "cell_type": "code",
   "execution_count": 43,
   "id": "982fb991-988c-41d7-9756-d0102f9be933",
   "metadata": {
    "tags": []
   },
   "outputs": [
    {
     "name": "stdout",
     "output_type": "stream",
     "text": [
      "Number of sheets in the workbook: 3\n"
     ]
    }
   ],
   "source": [
    "from tkinter import Tk\n",
    "from tkinter.filedialog import askopenfilename\n",
    "import openpyxl\n",
    "\n",
    "# Create a Tkinter root window (it won't be shown)\n",
    "root = Tk()\n",
    "root.withdraw()\n",
    "\n",
    "# Ask the user to select an Excel file using Windows Explorer\n",
    "file_path = askopenfilename(filetypes=[(\"Excel Files\", \"*.xlsx;*.xlsm\")])\n",
    "\n",
    "# Check if the user selected a file\n",
    "if file_path:\n",
    "    # Load the Excel workbook using openpyxl\n",
    "    workbook = openpyxl.load_workbook(file_path)\n",
    "\n",
    "    # Get the number of worksheets in the workbook\n",
    "    num_sheets = len(workbook.sheetnames)\n",
    "    print(f\"Number of sheets in the workbook: {num_sheets}\")\n",
    "\n",
    "    # Now you can work with the workbook as needed\n",
    "    # For example, you can access sheets, read data, etc.\n",
    "\n",
    "    # Close the workbook when done\n",
    "    workbook.close()\n",
    "else:\n",
    "    print(\"No file selected.\")\n"
   ]
  },
  {
   "cell_type": "code",
   "execution_count": 45,
   "id": "153945b2-cb27-4ed8-8f75-ee0b4b4b7aec",
   "metadata": {
    "tags": []
   },
   "outputs": [
    {
     "name": "stdout",
     "output_type": "stream",
     "text": [
      "Number of sheets in the workbook: 3\n",
      "Sheet names in the workbook: ['Sheet1', 'Sheet2', 'asas']\n"
     ]
    }
   ],
   "source": [
    "from tkinter import Tk\n",
    "from tkinter.filedialog import askopenfilename\n",
    "import openpyxl\n",
    "\n",
    "# Create a Tkinter root window (it won't be shown)\n",
    "root = Tk()\n",
    "root.withdraw()\n",
    "\n",
    "# Ask the user to select an Excel file using Windows Explorer\n",
    "file_path = askopenfilename(filetypes=[(\"Excel Files\", \"*.xlsx;*.xlsm\")])\n",
    "\n",
    "# Check if the user selected a file\n",
    "if file_path:\n",
    "    # Load the Excel workbook using openpyxl\n",
    "    workbook = openpyxl.load_workbook(file_path)\n",
    "    \n",
    "     # Get the number of worksheets in the workbook\n",
    "    num_sheets = len(workbook.sheetnames)\n",
    "    print(f\"Number of sheets in the workbook: {num_sheets}\")\n",
    "\n",
    "\n",
    "    # Get the sheet names in the workbook\n",
    "    sheet_names = workbook.sheetnames\n",
    "    print(f\"Sheet names in the workbook: {sheet_names}\")\n",
    "\n",
    "    # Now you can work with the workbook as needed\n",
    "    # For example, you can access sheets, read data, etc.\n",
    "\n",
    "    # Close the workbook when done\n",
    "    workbook.close()\n",
    "else:\n",
    "    print(\"No file selected.\")\n"
   ]
  },
  {
   "cell_type": "code",
   "execution_count": 46,
   "id": "472dca13-a8cb-4e54-b6f0-223764706f30",
   "metadata": {
    "tags": []
   },
   "outputs": [
    {
     "name": "stdout",
     "output_type": "stream",
     "text": [
      "Number of sheets in the workbook: 3\n",
      "Sheet names in the workbook: ['Sheet1', 'Sheet2', 'asas']\n",
      "Sheet1 is protected.\n",
      "Sheet2 is protected.\n",
      "asas is not protected.\n"
     ]
    }
   ],
   "source": [
    "from tkinter import Tk\n",
    "from tkinter.filedialog import askopenfilename\n",
    "import openpyxl\n",
    "\n",
    "# Create a Tkinter root window (it won't be shown)\n",
    "root = Tk()\n",
    "root.withdraw()\n",
    "\n",
    "# Ask the user to select an Excel file using Windows Explorer\n",
    "file_path = askopenfilename(filetypes=[(\"Excel Files\", \"*.xlsx;*.xlsm\")])\n",
    "\n",
    "# Check if the user selected a file\n",
    "if file_path:\n",
    "    # Load the Excel workbook using openpyxl\n",
    "    workbook = openpyxl.load_workbook(file_path)\n",
    "    \n",
    "     # Get the number of worksheets in the workbook\n",
    "    num_sheets = len(workbook.sheetnames)\n",
    "    print(f\"Number of sheets in the workbook: {num_sheets}\")\n",
    "\n",
    "\n",
    "    # Get the sheet names in the workbook\n",
    "    sheet_names = workbook.sheetnames\n",
    "    print(f\"Sheet names in the workbook: {sheet_names}\")\n",
    "    \n",
    "    # Check if each sheet is protected or not\n",
    "    for sheet_name in sheet_names:\n",
    "        sheet = workbook[sheet_name]\n",
    "        if sheet.protection.sheet:\n",
    "            print(f\"{sheet_name} is protected.\")\n",
    "        else:\n",
    "            print(f\"{sheet_name} is not protected.\")\n",
    "\n",
    "    # Now you can work with the workbook as needed\n",
    "    # For example, you can access sheets, read data, etc.\n",
    "\n",
    "    # Close the workbook when done\n",
    "    workbook.close()\n",
    "else:\n",
    "    print(\"No file selected.\")\n"
   ]
  },
  {
   "cell_type": "code",
   "execution_count": 47,
   "id": "c7f33018-5e32-42b2-8adb-3da98470705a",
   "metadata": {
    "tags": []
   },
   "outputs": [
    {
     "name": "stdout",
     "output_type": "stream",
     "text": [
      "Excel file 'C:/Users/User/Desktop/SheetPasswordCracker/test.xlsx' has been converted to 'output.zip' successfully.\n"
     ]
    }
   ],
   "source": [
    "import zipfile\n",
    "from tkinter import Tk\n",
    "from tkinter.filedialog import askopenfilename\n",
    "\n",
    "# Create a Tkinter root window (it won't be shown)\n",
    "root = Tk()\n",
    "root.withdraw()\n",
    "\n",
    "# Ask the user to select an Excel file using Windows Explorer\n",
    "excel_file_path = askopenfilename(filetypes=[(\"Excel Files\", \"*.xlsx;*.xlsm\")])\n",
    "\n",
    "# Check if the user selected a file\n",
    "if excel_file_path:\n",
    "    # Specify the output zip file path\n",
    "    zip_file_path = \"output.zip\"\n",
    "\n",
    "    # Create a new zip file\n",
    "    with zipfile.ZipFile(zip_file_path, 'w') as zip_file:\n",
    "        # Add the Excel file to the zip file\n",
    "        zip_file.write(excel_file_path, arcname='input.xlsx')\n",
    "\n",
    "    print(f\"Excel file '{excel_file_path}' has been converted to '{zip_file_path}' successfully.\")\n",
    "else:\n",
    "    print(\"No Excel file selected.\")\n"
   ]
  },
  {
   "cell_type": "code",
   "execution_count": 49,
   "id": "fc5faa38-03ef-4f3e-bfe4-815816f2d054",
   "metadata": {
    "tags": []
   },
   "outputs": [
    {
     "name": "stdout",
     "output_type": "stream",
     "text": [
      "Excel file 'C:/Users/User/Desktop/SheetPasswordCracker/test.xlsx' has been converted to 'C:/Users/User/Desktop/SheetPasswordCracker/test.zip' successfully.\n"
     ]
    }
   ],
   "source": [
    "import zipfile\n",
    "import os\n",
    "from tkinter import Tk\n",
    "from tkinter.filedialog import askopenfilename\n",
    "\n",
    "# Create a Tkinter root window (it won't be shown)\n",
    "root = Tk()\n",
    "root.withdraw()\n",
    "\n",
    "# Ask the user to select an Excel file using Windows Explorer\n",
    "excel_file_path = askopenfilename(filetypes=[(\"Excel Files\", \"*.xlsx;*.xlsm\")])\n",
    "\n",
    "# Check if the user selected a file\n",
    "if excel_file_path:\n",
    "    # Replace the extension with '.zip'\n",
    "    zip_file_path = os.path.splitext(excel_file_path)[0] + '.zip'\n",
    "\n",
    "    # Create a new zip file\n",
    "    with zipfile.ZipFile(zip_file_path, 'w') as zip_file:\n",
    "        # Add the Excel file to the zip file with the same name\n",
    "        zip_file.write(excel_file_path, arcname=os.path.basename(excel_file_path))\n",
    "\n",
    "    print(f\"Excel file '{excel_file_path}' has been converted to '{zip_file_path}' successfully.\")\n",
    "else:\n",
    "    print(\"No Excel file selected.\")\n"
   ]
  },
  {
   "cell_type": "code",
   "execution_count": 52,
   "id": "014d4468-e972-4e25-a150-839b381502c9",
   "metadata": {
    "tags": []
   },
   "outputs": [
    {
     "name": "stdout",
     "output_type": "stream",
     "text": [
      "Number of sheets in the workbook: 3\n",
      "Sheet names in the workbook: ['Sheet1', 'Sheet2', 'asas']\n",
      "Sheet1 is protected.\n",
      "Sheet2 is protected.\n",
      "asas is not protected.\n",
      "Excel file 'C:/Users/User/Desktop/SheetPasswordCracker/test.xlsx' has been converted to 'C:/Users/User/Desktop/SheetPasswordCracker/test.zip' successfully.\n"
     ]
    }
   ],
   "source": [
    "from tkinter import Tk\n",
    "from tkinter.filedialog import askopenfilename\n",
    "import openpyxl\n",
    "import zipfile\n",
    "import os\n",
    "\n",
    "# Create a Tkinter root window (it won't be shown)\n",
    "root = Tk()\n",
    "root.withdraw()\n",
    "\n",
    "# Ask the user to select an Excel file using Windows Explorer\n",
    "excel_file_path = askopenfilename(filetypes=[(\"Excel Files\", \"*.xlsx;*.xlsm\")])\n",
    "\n",
    "# Check if the user selected a file\n",
    "if excel_file_path:\n",
    "    # Load the Excel workbook using openpyxl\n",
    "    workbook = openpyxl.load_workbook(excel_file_path)\n",
    "    \n",
    "     # Get the number of worksheets in the workbook\n",
    "    num_sheets = len(workbook.sheetnames)\n",
    "    print(f\"Number of sheets in the workbook: {num_sheets}\")\n",
    "\n",
    "\n",
    "    # Get the sheet names in the workbook\n",
    "    sheet_names = workbook.sheetnames\n",
    "    print(f\"Sheet names in the workbook: {sheet_names}\")\n",
    "    \n",
    "    # Check if each sheet is protected or not\n",
    "    for sheet_name in sheet_names:\n",
    "        sheet = workbook[sheet_name]\n",
    "        if sheet.protection.sheet:\n",
    "            print(f\"{sheet_name} is protected.\")\n",
    "        else:\n",
    "            print(f\"{sheet_name} is not protected.\")\n",
    "            \n",
    "            \n",
    "# Check if the user selected a file\n",
    "if excel_file_path:\n",
    "    # Replace the extension with '.zip'\n",
    "    zip_file_path = os.path.splitext(excel_file_path)[0] + '.zip'\n",
    "\n",
    "    # Create a new zip file\n",
    "    with zipfile.ZipFile(zip_file_path, 'w') as zip_file:\n",
    "        # Add the Excel file to the zip file with the same name\n",
    "        zip_file.write(excel_file_path, arcname=os.path.basename(excel_file_path))\n",
    "\n",
    "    print(f\"Excel file '{excel_file_path}' has been converted to '{zip_file_path}' successfully.\")\n",
    "    # Now you can work with the workbook as needed\n",
    "    # For example, you can access sheets, read data, etc.\n",
    "\n",
    "    # Close the workbook when done\n",
    "    workbook.close()\n",
    "else:\n",
    "    print(\"No file selected.\")"
   ]
  },
  {
   "cell_type": "code",
   "execution_count": 55,
   "id": "2e352770-682a-4c87-af8c-df91095b7889",
   "metadata": {
    "tags": []
   },
   "outputs": [
    {
     "name": "stdout",
     "output_type": "stream",
     "text": [
      "Contents of 'C:/Users/User/Desktop/SheetPasswordCracker/test.zip' have been extracted to the same directory.\n"
     ]
    }
   ],
   "source": [
    "import zipfile\n",
    "from tkinter import Tk\n",
    "from tkinter.filedialog import askopenfilename\n",
    "\n",
    "# Create a Tkinter root window (it won't be shown)\n",
    "root = Tk()\n",
    "root.withdraw()\n",
    "\n",
    "# Ask the user to select a zip file using Windows Explorer\n",
    "zip_file_path = askopenfilename(filetypes=[(\"Zip Files\", \"*.zip\")])\n",
    "\n",
    "# Check if the user selected a file\n",
    "if zip_file_path:\n",
    "    # Create a ZipFile object\n",
    "    with zipfile.ZipFile(zip_file_path, 'r') as zip_file:\n",
    "        # Extract the contents to the same directory\n",
    "        zip_file.extractall()\n",
    "\n",
    "    print(f\"Contents of '{zip_file_path}' have been extracted to the same directory.\")\n",
    "else:\n",
    "    print(\"No zip file selected.\")\n"
   ]
  },
  {
   "cell_type": "code",
   "execution_count": 59,
   "id": "9824cd5c-67dd-4a66-9b02-68115720ea29",
   "metadata": {
    "tags": []
   },
   "outputs": [
    {
     "name": "stdout",
     "output_type": "stream",
     "text": [
      "Excel file 'C:/Users/User/Desktop/SheetPasswordCracker/test.xlsx' has been renamed to 'C:/Users/User/Desktop/SheetPasswordCracker/test.zip'.\n"
     ]
    }
   ],
   "source": [
    "# File Extension Change to Zip\n",
    "\n",
    "import os\n",
    "from tkinter import Tk\n",
    "from tkinter.filedialog import askopenfilename\n",
    "\n",
    "# Create a Tkinter root window (it won't be shown)\n",
    "root = Tk()\n",
    "root.withdraw()\n",
    "\n",
    "# Ask the user to select an Excel file using Windows Explorer\n",
    "excel_file_path = askopenfilename(filetypes=[(\"Excel Files\", \"*.xlsx;*.xlsm\")])\n",
    "\n",
    "# Check if the user selected a file\n",
    "if excel_file_path:\n",
    "    # Replace the extension with '.zip'\n",
    "    zip_file_path = os.path.splitext(excel_file_path)[0] + '.zip'\n",
    "\n",
    "    # Rename the file by moving it to a new path\n",
    "    os.rename(excel_file_path, zip_file_path)\n",
    "\n",
    "    print(f\"Excel file '{excel_file_path}' has been renamed to '{zip_file_path}'.\")\n",
    "else:\n",
    "    print(\"No Excel file selected.\")\n"
   ]
  },
  {
   "cell_type": "code",
   "execution_count": 60,
   "id": "af91aa78-3eb4-482a-a16b-2b4e039dcaa3",
   "metadata": {
    "tags": []
   },
   "outputs": [
    {
     "name": "stdout",
     "output_type": "stream",
     "text": [
      "Contents of 'C:/Users/User/Desktop/SheetPasswordCracker/test.zip' have been extracted to the folder 'test'.\n"
     ]
    }
   ],
   "source": [
    "import zipfile\n",
    "import os\n",
    "from tkinter import Tk\n",
    "from tkinter.filedialog import askopenfilename\n",
    "\n",
    "# Create a Tkinter root window (it won't be shown)\n",
    "root = Tk()\n",
    "root.withdraw()\n",
    "\n",
    "# Ask the user to select a zip file using Windows Explorer\n",
    "zip_file_path = askopenfilename(filetypes=[(\"Zip Files\", \"*.zip\")])\n",
    "\n",
    "# Check if the user selected a file\n",
    "if zip_file_path:\n",
    "    # Create a folder with the same name as the zip file (excluding the extension)\n",
    "    folder_name = os.path.splitext(os.path.basename(zip_file_path))[0]\n",
    "    os.makedirs(folder_name, exist_ok=True)\n",
    "\n",
    "    # Create a ZipFile object\n",
    "    with zipfile.ZipFile(zip_file_path, 'r') as zip_file:\n",
    "        # Extract the contents to the folder\n",
    "        zip_file.extractall(folder_name)\n",
    "\n",
    "    print(f\"Contents of '{zip_file_path}' have been extracted to the folder '{folder_name}'.\")\n",
    "else:\n",
    "    print(\"No zip file selected.\")\n"
   ]
  },
  {
   "cell_type": "code",
   "execution_count": 12,
   "id": "3c343cf0-5b7a-4f78-ac12-db1f0d6b7f2f",
   "metadata": {
    "tags": []
   },
   "outputs": [
    {
     "name": "stdout",
     "output_type": "stream",
     "text": [
      "Number of sheets in the workbook: 3\n",
      "Sheet names in the workbook: ['Sheet1', 'Sheet2', 'asas']\n",
      "Sheet1 is protected.\n",
      "Sheet2 is protected.\n",
      "asas is not protected.\n",
      "Excel file 'C:/Users/User/Desktop/SheetPasswordCracker/test.xlsx' has been renamed to 'C:/Users/User/Desktop/SheetPasswordCracker/test.zip'.\n",
      "Contents of 'C:/Users/User/Desktop/SheetPasswordCracker/test.zip' have been extracted to the folder 'test'.\n"
     ]
    }
   ],
   "source": [
    "from tkinter import Tk\n",
    "from tkinter.filedialog import askopenfilename\n",
    "import openpyxl\n",
    "import zipfile\n",
    "import os\n",
    "\n",
    "# Create a Tkinter root window (it won't be shown)\n",
    "root = Tk()\n",
    "root.withdraw()\n",
    "\n",
    "# Ask the user to select an Excel file using Windows Explorer\n",
    "excel_file_path = askopenfilename(filetypes=[(\"Excel Files\", \"*.xlsx;*.xlsm\")])\n",
    "\n",
    "# Check if the user selected a file\n",
    "if excel_file_path:\n",
    "    # Load the Excel workbook using openpyxl\n",
    "    workbook = openpyxl.load_workbook(excel_file_path)\n",
    "    \n",
    "     # Get the number of worksheets in the workbook\n",
    "    num_sheets = len(workbook.sheetnames)\n",
    "    print(f\"Number of sheets in the workbook: {num_sheets}\")\n",
    "\n",
    "\n",
    "    # Get the sheet names in the workbook\n",
    "    sheet_names = workbook.sheetnames\n",
    "    print(f\"Sheet names in the workbook: {sheet_names}\")\n",
    "    \n",
    "    # Check if each sheet is protected or not\n",
    "    for sheet_name in sheet_names:\n",
    "        sheet = workbook[sheet_name]\n",
    "        if sheet.protection.sheet:\n",
    "            print(f\"{sheet_name} is protected.\")\n",
    "        else:\n",
    "            print(f\"{sheet_name} is not protected.\")\n",
    "            \n",
    "# Check if the user selected a file\n",
    "if excel_file_path:\n",
    "    # Replace the extension with '.zip'\n",
    "    zip_file_path = os.path.splitext(excel_file_path)[0] + '.zip'\n",
    "\n",
    "    # Rename the file by moving it to a new path\n",
    "    os.rename(excel_file_path, zip_file_path)\n",
    "\n",
    "    print(f\"Excel file '{excel_file_path}' has been renamed to '{zip_file_path}'.\")\n",
    "else:\n",
    "    print(\"No Excel file selected.\")\n",
    "    \n",
    "    \n",
    "\n",
    "\n",
    "# Check if the user selected a file\n",
    "if zip_file_path:\n",
    "    # Create a folder with the same name as the zip file (excluding the extension)\n",
    "    folder_name = os.path.splitext(os.path.basename(zip_file_path))[0]\n",
    "    os.makedirs(folder_name, exist_ok=True)\n",
    "\n",
    "    # Create a ZipFile object\n",
    "    with zipfile.ZipFile(zip_file_path, 'r') as zip_file:\n",
    "        # Extract the contents to the folder\n",
    "        zip_file.extractall(folder_name)\n",
    "\n",
    "    print(f\"Contents of '{zip_file_path}' have been extracted to the folder '{folder_name}'.\")\n",
    "else:\n",
    "    print(\"No zip file selected.\")\n",
    "\n",
    "\n",
    "import os\n",
    "import subprocess\n",
    "\n",
    "# Specify the path to the extracted folder\n",
    "folder_path = \"test\"\n",
    "\n",
    "# Specify the name of the XML file you want to open\n",
    "xml_file_name = \"xl/worksheets/sheet1.xml\"\n",
    "\n",
    "# Construct the full path to the XML file\n",
    "xml_file_path = os.path.join(folder_path, xml_file_name)\n",
    "\n",
    "# Text to replace\n",
    "old_text = '<sheetProtection'\n",
    "new_text = 'XXYYZZ'\n",
    "\n",
    "def replace_text_in_file(xml_file_path, old_text, new_text):\n",
    "    # Create a backup of the original file\n",
    "    backup_path = xml_file_path + '.bak'\n",
    "    os.replace(xml_file_path, backup_path)\n",
    "\n",
    "    # Read the content of the original file\n",
    "    with open(backup_path, 'r') as file:\n",
    "        content = file.read()\n",
    "\n",
    "    # Replace the specified text\n",
    "    content = content.replace(old_text, new_text)\n",
    "\n",
    "    # Write the modified content back to the original file\n",
    "    with open(xml_file_path, 'w') as file:\n",
    "        file.write(content)\n",
    "\n",
    "def select_file():\n",
    "    # root = tk.Tk()\n",
    "    # root.withdraw()  # Hide the main window\n",
    "\n",
    "    # Open the file dialog\n",
    "    # file_path = filedialog.askopenfilename(filetypes=[(\"XML files\", \"*.xml\")])\n",
    "    xml_file_path = os.path.join(folder_path, xml_file_name)\n",
    "\n",
    "\n",
    "    if xml_file_path:\n",
    "        # Call the function to replace text in the selected file\n",
    "        replace_text_in_file(xml_file_path, old_text, new_text)\n",
    "\n",
    "if __name__ == \"__main__\":\n",
    "    select_file()\n",
    "\n",
    "        \n",
    "    "
   ]
  },
  {
   "cell_type": "code",
   "execution_count": 14,
   "id": "ae051e62-46ca-4db1-a9fb-3bb99d3284f2",
   "metadata": {
    "tags": []
   },
   "outputs": [
    {
     "name": "stdout",
     "output_type": "stream",
     "text": [
      "Number of sheets in the workbook: 3\n",
      "Sheet names in the workbook: ['Sheet1', 'Sheet2', 'asas']\n",
      "Sheet1 is protected.\n",
      "Sheet2 is protected.\n",
      "asas is not protected.\n",
      "Excel file 'C:/Users/User/Desktop/SheetPasswordCracker/test.xlsx' has been renamed to 'C:/Users/User/Desktop/SheetPasswordCracker/test.zip'.\n",
      "Contents of 'C:/Users/User/Desktop/SheetPasswordCracker/test.zip' have been extracted to the folder 'test'.\n"
     ]
    }
   ],
   "source": [
    "from tkinter import Tk\n",
    "from tkinter.filedialog import askopenfilename\n",
    "import openpyxl\n",
    "import zipfile\n",
    "import os\n",
    "\n",
    "# Create a Tkinter root window (it won't be shown)\n",
    "root = Tk()\n",
    "root.withdraw()\n",
    "\n",
    "# Ask the user to select an Excel file using Windows Explorer\n",
    "excel_file_path = askopenfilename(filetypes=[(\"Excel Files\", \"*.xlsx;*.xlsm\")])\n",
    "\n",
    "# Check if the user selected a file\n",
    "if excel_file_path:\n",
    "    # Load the Excel workbook using openpyxl\n",
    "    workbook = openpyxl.load_workbook(excel_file_path)\n",
    "    \n",
    "     # Get the number of worksheets in the workbook\n",
    "    num_sheets = len(workbook.sheetnames)\n",
    "    print(f\"Number of sheets in the workbook: {num_sheets}\")\n",
    "\n",
    "\n",
    "    # Get the sheet names in the workbook\n",
    "    sheet_names = workbook.sheetnames\n",
    "    print(f\"Sheet names in the workbook: {sheet_names}\")\n",
    "    \n",
    "    # Check if each sheet is protected or not\n",
    "    for sheet_name in sheet_names:\n",
    "        sheet = workbook[sheet_name]\n",
    "        if sheet.protection.sheet:\n",
    "            print(f\"{sheet_name} is protected.\")\n",
    "        else:\n",
    "            print(f\"{sheet_name} is not protected.\")\n",
    "            \n",
    "# Check if the user selected a file\n",
    "if excel_file_path:\n",
    "    # Replace the extension with '.zip'\n",
    "    zip_file_path = os.path.splitext(excel_file_path)[0] + '.zip'\n",
    "\n",
    "    # Rename the file by moving it to a new path\n",
    "    os.rename(excel_file_path, zip_file_path)\n",
    "\n",
    "    print(f\"Excel file '{excel_file_path}' has been renamed to '{zip_file_path}'.\")\n",
    "else:\n",
    "    print(\"No Excel file selected.\")\n",
    "    \n",
    "    \n",
    "\n",
    "\n",
    "# Check if the user selected a file\n",
    "if zip_file_path:\n",
    "    # Create a folder with the same name as the zip file (excluding the extension)\n",
    "    folder_name = os.path.splitext(os.path.basename(zip_file_path))[0]\n",
    "    os.makedirs(folder_name, exist_ok=True)\n",
    "\n",
    "    # Create a ZipFile object\n",
    "    with zipfile.ZipFile(zip_file_path, 'r') as zip_file:\n",
    "        # Extract the contents to the folder\n",
    "        zip_file.extractall(folder_name)\n",
    "\n",
    "    print(f\"Contents of '{zip_file_path}' have been extracted to the folder '{folder_name}'.\")\n",
    "else:\n",
    "    print(\"No zip file selected.\")\n",
    "\n",
    "\n",
    " # --------------------- replace the tag-------------------------------\n",
    "    \n",
    "    \n",
    "# Replace specific tag from a file\n",
    "\n",
    "import os\n",
    "import tkinter as tk\n",
    "from tkinter import filedialog\n",
    "import re\n",
    "\n",
    "#-----\n",
    "\n",
    "# Specify the path to the extracted folder\n",
    "folder_path = \"test\"\n",
    "\n",
    "# Specify the name of the XML file you want to open\n",
    "xml_file_name = \"xl/worksheets/sheet1.xml\"\n",
    "\n",
    "# Construct the full path to the XML file\n",
    "xml_file_path = os.path.join(folder_path, xml_file_name)\n",
    "\n",
    "# -----\n",
    "\n",
    "# Text to replace\n",
    "old_text_pattern = re.compile(r'<sheetProtection[^>]*>')\n",
    "new_text = 'XXYYZZ'\n",
    "\n",
    "def replace_text_in_file(xml_file_path, old_text_pattern, new_text):\n",
    "    # Create a backup of the original file\n",
    "    backup_path = xml_file_path + '.bak'\n",
    "    os.replace(xml_file_path, backup_path)\n",
    "\n",
    "    # Read the content of the original file\n",
    "    with open(backup_path, 'r') as file:\n",
    "        content = file.read()\n",
    "\n",
    "    # Replace the specified text using a regular expression pattern\n",
    "    content = old_text_pattern.sub(new_text, content)\n",
    "\n",
    "    # Write the modified content back to the original file\n",
    "    with open(xml_file_path, 'w') as file:\n",
    "        file.write(content)\n",
    "\n",
    "def select_file():\n",
    "#     root = tk.Tk()\n",
    "#     root.withdraw()  # Hide the main window\n",
    "\n",
    "#     # Open the file dialog\n",
    "#     file_path = filedialog.askopenfilename(filetypes=[(\"XML files\", \"*.xml\")])\n",
    "    xml_file_path = os.path.join(folder_path, xml_file_name)\n",
    "\n",
    "    if xml_file_path:\n",
    "        # Call the function to replace text in the selected file\n",
    "        replace_text_in_file(xml_file_path, old_text_pattern, new_text)\n",
    "\n",
    "if __name__ == \"__main__\":\n",
    "    select_file()\n",
    "    "
   ]
  },
  {
   "cell_type": "code",
   "execution_count": null,
   "id": "4df6fd91-929c-4e00-a52e-704af7dab8d6",
   "metadata": {},
   "outputs": [],
   "source": []
  }
 ],
 "metadata": {
  "kernelspec": {
   "display_name": "Python 3 (ipykernel)",
   "language": "python",
   "name": "python3"
  },
  "language_info": {
   "codemirror_mode": {
    "name": "ipython",
    "version": 3
   },
   "file_extension": ".py",
   "mimetype": "text/x-python",
   "name": "python",
   "nbconvert_exporter": "python",
   "pygments_lexer": "ipython3",
   "version": "3.11.5"
  }
 },
 "nbformat": 4,
 "nbformat_minor": 5
}
